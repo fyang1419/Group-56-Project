{
 "cells": [
  {
   "cell_type": "markdown",
   "id": "95e60efb-83c5-4d20-b2e5-27493f6a1bc5",
   "metadata": {},
   "source": [
    "Project Proposal"
   ]
  },
  {
   "cell_type": "markdown",
   "id": "1ec77491-fb08-4517-b3c0-1203cb9dfd5c",
   "metadata": {},
   "source": [
    "Introduction"
   ]
  },
  {
   "cell_type": "markdown",
   "id": "c062a1ca-a9ca-4d84-8db8-436c77da6b80",
   "metadata": {},
   "source": [
    "Preliminary exploratory data analysis"
   ]
  },
  {
   "cell_type": "markdown",
   "id": "5c179bd0-969b-4507-a930-3f66d838aa71",
   "metadata": {},
   "source": [
    "Methods"
   ]
  },
  {
   "cell_type": "markdown",
   "id": "3fc04954-8006-487b-9ada-23c5b8e512a2",
   "metadata": {},
   "source": [
    "Expected outcome and significance"
   ]
  }
 ],
 "metadata": {
  "kernelspec": {
   "display_name": "R",
   "language": "R",
   "name": "ir"
  },
  "language_info": {
   "codemirror_mode": "r",
   "file_extension": ".r",
   "mimetype": "text/x-r-source",
   "name": "R",
   "pygments_lexer": "r",
   "version": "4.1.3"
  }
 },
 "nbformat": 4,
 "nbformat_minor": 5
}
