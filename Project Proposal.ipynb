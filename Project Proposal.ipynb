{
 "cells": [
  {
   "cell_type": "markdown",
   "id": "95e60efb-83c5-4d20-b2e5-27493f6a1bc5",
   "metadata": {},
   "source": [
    "# Project Proposal"
   ]
  },
  {
   "cell_type": "markdown",
   "id": "1ec77491-fb08-4517-b3c0-1203cb9dfd5c",
   "metadata": {},
   "source": [
    "## Introduction"
   ]
  },
  {
   "cell_type": "markdown",
   "id": "c062a1ca-a9ca-4d84-8db8-436c77da6b80",
   "metadata": {},
   "source": [
    "## Preliminary exploratory data analysis\n",
    "1) We begin the data analysis by downloading the dataset as .xls format, and reading the data using read_excel. To do so, we use the package readxl and other packages necessary for our data analysis. The data given is already split into training data and testing data. We can read these to objects 'training_data' and 'testing_data'."
   ]
  },
  {
   "cell_type": "code",
   "execution_count": 4,
   "id": "3c71f2e7-6b77-4b3e-b76f-bf347c806798",
   "metadata": {},
   "outputs": [
    {
     "name": "stderr",
     "output_type": "stream",
     "text": [
      "Updating HTML index of packages in '.Library'\n",
      "\n",
      "Making 'packages.html' ...\n",
      " done\n",
      "\n"
     ]
    }
   ],
   "source": [
    "library(tidyverse)\n",
    "library(readxl)\n",
    "library(ggplot2)\n",
    "library(gridExtra)\n",
    "install.packages(\"psych\")\n",
    "library(psych)"
   ]
  },
  {
   "cell_type": "code",
   "execution_count": 5,
   "id": "b28ba13a-9e6b-4527-a89f-ee2f187cb98a",
   "metadata": {},
   "outputs": [
    {
     "name": "stderr",
     "output_type": "stream",
     "text": [
      "\u001b[1m\u001b[22mNew names:\n",
      "\u001b[36m•\u001b[39m `` -> `...7`\n",
      "\u001b[36m•\u001b[39m `` -> `...8`\n",
      "\u001b[1m\u001b[22mNew names:\n",
      "\u001b[36m•\u001b[39m `` -> `...7`\n",
      "\u001b[36m•\u001b[39m `` -> `...8`\n"
     ]
    },
    {
     "data": {
      "text/html": [
       "<table class=\"dataframe\">\n",
       "<caption>A tibble: 6 × 6</caption>\n",
       "<thead>\n",
       "\t<tr><th scope=col>STG</th><th scope=col>SCG</th><th scope=col>STR</th><th scope=col>LPR</th><th scope=col>PEG</th><th scope=col>UNS</th></tr>\n",
       "\t<tr><th scope=col>&lt;dbl&gt;</th><th scope=col>&lt;dbl&gt;</th><th scope=col>&lt;dbl&gt;</th><th scope=col>&lt;dbl&gt;</th><th scope=col>&lt;dbl&gt;</th><th scope=col>&lt;chr&gt;</th></tr>\n",
       "</thead>\n",
       "<tbody>\n",
       "\t<tr><td>0.00</td><td>0.00</td><td>0.00</td><td>0.00</td><td>0.00</td><td>very_low</td></tr>\n",
       "\t<tr><td>0.08</td><td>0.08</td><td>0.10</td><td>0.24</td><td>0.90</td><td>High    </td></tr>\n",
       "\t<tr><td>0.06</td><td>0.06</td><td>0.05</td><td>0.25</td><td>0.33</td><td>Low     </td></tr>\n",
       "\t<tr><td>0.10</td><td>0.10</td><td>0.15</td><td>0.65</td><td>0.30</td><td>Middle  </td></tr>\n",
       "\t<tr><td>0.08</td><td>0.08</td><td>0.08</td><td>0.98</td><td>0.24</td><td>Low     </td></tr>\n",
       "\t<tr><td>0.09</td><td>0.15</td><td>0.40</td><td>0.10</td><td>0.66</td><td>Middle  </td></tr>\n",
       "</tbody>\n",
       "</table>\n"
      ],
      "text/latex": [
       "A tibble: 6 × 6\n",
       "\\begin{tabular}{llllll}\n",
       " STG & SCG & STR & LPR & PEG & UNS\\\\\n",
       " <dbl> & <dbl> & <dbl> & <dbl> & <dbl> & <chr>\\\\\n",
       "\\hline\n",
       "\t 0.00 & 0.00 & 0.00 & 0.00 & 0.00 & very\\_low\\\\\n",
       "\t 0.08 & 0.08 & 0.10 & 0.24 & 0.90 & High    \\\\\n",
       "\t 0.06 & 0.06 & 0.05 & 0.25 & 0.33 & Low     \\\\\n",
       "\t 0.10 & 0.10 & 0.15 & 0.65 & 0.30 & Middle  \\\\\n",
       "\t 0.08 & 0.08 & 0.08 & 0.98 & 0.24 & Low     \\\\\n",
       "\t 0.09 & 0.15 & 0.40 & 0.10 & 0.66 & Middle  \\\\\n",
       "\\end{tabular}\n"
      ],
      "text/markdown": [
       "\n",
       "A tibble: 6 × 6\n",
       "\n",
       "| STG &lt;dbl&gt; | SCG &lt;dbl&gt; | STR &lt;dbl&gt; | LPR &lt;dbl&gt; | PEG &lt;dbl&gt; | UNS &lt;chr&gt; |\n",
       "|---|---|---|---|---|---|\n",
       "| 0.00 | 0.00 | 0.00 | 0.00 | 0.00 | very_low |\n",
       "| 0.08 | 0.08 | 0.10 | 0.24 | 0.90 | High     |\n",
       "| 0.06 | 0.06 | 0.05 | 0.25 | 0.33 | Low      |\n",
       "| 0.10 | 0.10 | 0.15 | 0.65 | 0.30 | Middle   |\n",
       "| 0.08 | 0.08 | 0.08 | 0.98 | 0.24 | Low      |\n",
       "| 0.09 | 0.15 | 0.40 | 0.10 | 0.66 | Middle   |\n",
       "\n"
      ],
      "text/plain": [
       "  STG  SCG  STR  LPR  PEG  UNS     \n",
       "1 0.00 0.00 0.00 0.00 0.00 very_low\n",
       "2 0.08 0.08 0.10 0.24 0.90 High    \n",
       "3 0.06 0.06 0.05 0.25 0.33 Low     \n",
       "4 0.10 0.10 0.15 0.65 0.30 Middle  \n",
       "5 0.08 0.08 0.08 0.98 0.24 Low     \n",
       "6 0.09 0.15 0.40 0.10 0.66 Middle  "
      ]
     },
     "metadata": {},
     "output_type": "display_data"
    },
    {
     "data": {
      "text/html": [
       "<table class=\"dataframe\">\n",
       "<caption>A tibble: 6 × 6</caption>\n",
       "<thead>\n",
       "\t<tr><th scope=col>STG</th><th scope=col>SCG</th><th scope=col>STR</th><th scope=col>LPR</th><th scope=col>PEG</th><th scope=col>UNS</th></tr>\n",
       "\t<tr><th scope=col>&lt;dbl&gt;</th><th scope=col>&lt;dbl&gt;</th><th scope=col>&lt;dbl&gt;</th><th scope=col>&lt;dbl&gt;</th><th scope=col>&lt;dbl&gt;</th><th scope=col>&lt;chr&gt;</th></tr>\n",
       "</thead>\n",
       "<tbody>\n",
       "\t<tr><td>0.00</td><td>0.10</td><td>0.50</td><td>0.26</td><td>0.05</td><td>Very Low</td></tr>\n",
       "\t<tr><td>0.05</td><td>0.05</td><td>0.55</td><td>0.60</td><td>0.14</td><td>Low     </td></tr>\n",
       "\t<tr><td>0.08</td><td>0.18</td><td>0.63</td><td>0.60</td><td>0.85</td><td>High    </td></tr>\n",
       "\t<tr><td>0.20</td><td>0.20</td><td>0.68</td><td>0.67</td><td>0.85</td><td>High    </td></tr>\n",
       "\t<tr><td>0.22</td><td>0.22</td><td>0.90</td><td>0.30</td><td>0.90</td><td>High    </td></tr>\n",
       "\t<tr><td>0.14</td><td>0.14</td><td>0.70</td><td>0.50</td><td>0.30</td><td>Low     </td></tr>\n",
       "</tbody>\n",
       "</table>\n"
      ],
      "text/latex": [
       "A tibble: 6 × 6\n",
       "\\begin{tabular}{llllll}\n",
       " STG & SCG & STR & LPR & PEG & UNS\\\\\n",
       " <dbl> & <dbl> & <dbl> & <dbl> & <dbl> & <chr>\\\\\n",
       "\\hline\n",
       "\t 0.00 & 0.10 & 0.50 & 0.26 & 0.05 & Very Low\\\\\n",
       "\t 0.05 & 0.05 & 0.55 & 0.60 & 0.14 & Low     \\\\\n",
       "\t 0.08 & 0.18 & 0.63 & 0.60 & 0.85 & High    \\\\\n",
       "\t 0.20 & 0.20 & 0.68 & 0.67 & 0.85 & High    \\\\\n",
       "\t 0.22 & 0.22 & 0.90 & 0.30 & 0.90 & High    \\\\\n",
       "\t 0.14 & 0.14 & 0.70 & 0.50 & 0.30 & Low     \\\\\n",
       "\\end{tabular}\n"
      ],
      "text/markdown": [
       "\n",
       "A tibble: 6 × 6\n",
       "\n",
       "| STG &lt;dbl&gt; | SCG &lt;dbl&gt; | STR &lt;dbl&gt; | LPR &lt;dbl&gt; | PEG &lt;dbl&gt; | UNS &lt;chr&gt; |\n",
       "|---|---|---|---|---|---|\n",
       "| 0.00 | 0.10 | 0.50 | 0.26 | 0.05 | Very Low |\n",
       "| 0.05 | 0.05 | 0.55 | 0.60 | 0.14 | Low      |\n",
       "| 0.08 | 0.18 | 0.63 | 0.60 | 0.85 | High     |\n",
       "| 0.20 | 0.20 | 0.68 | 0.67 | 0.85 | High     |\n",
       "| 0.22 | 0.22 | 0.90 | 0.30 | 0.90 | High     |\n",
       "| 0.14 | 0.14 | 0.70 | 0.50 | 0.30 | Low      |\n",
       "\n"
      ],
      "text/plain": [
       "  STG  SCG  STR  LPR  PEG  UNS     \n",
       "1 0.00 0.10 0.50 0.26 0.05 Very Low\n",
       "2 0.05 0.05 0.55 0.60 0.14 Low     \n",
       "3 0.08 0.18 0.63 0.60 0.85 High    \n",
       "4 0.20 0.20 0.68 0.67 0.85 High    \n",
       "5 0.22 0.22 0.90 0.30 0.90 High    \n",
       "6 0.14 0.14 0.70 0.50 0.30 Low     "
      ]
     },
     "metadata": {},
     "output_type": "display_data"
    }
   ],
   "source": [
    "# show data can be read\n",
    "train_data <- read_excel(\"Data_User.xls\", sheet=\"Training_Data\") |>\n",
    "              select(STG:UNS)\n",
    "test_data <- read_excel(\"Data_User.xls\", sheet=\"Test_Data\") |>\n",
    "              select(STG:UNS)\n",
    "\n",
    "# i have sliced this data to show our data tables - Jayden\n",
    "slice(train_data, 1:6)\n",
    "\n",
    "slice(test_data, 1:6)"
   ]
  },
  {
   "cell_type": "markdown",
   "id": "34a78994-f934-4e35-a4ea-bf251f11fc35",
   "metadata": {},
   "source": [
    "The dataset is already tidy. The only adjustment we need to make is to change the target variable's (UNS) character type to a factor type for both testing and training data."
   ]
  },
  {
   "cell_type": "code",
   "execution_count": 6,
   "id": "6fbfdd03-aeab-4874-9015-fb97543870df",
   "metadata": {},
   "outputs": [
    {
     "data": {
      "text/html": [
       "<table class=\"dataframe\">\n",
       "<caption>A tibble: 6 × 6</caption>\n",
       "<thead>\n",
       "\t<tr><th scope=col>STG</th><th scope=col>SCG</th><th scope=col>STR</th><th scope=col>LPR</th><th scope=col>PEG</th><th scope=col>UNS</th></tr>\n",
       "\t<tr><th scope=col>&lt;dbl&gt;</th><th scope=col>&lt;dbl&gt;</th><th scope=col>&lt;dbl&gt;</th><th scope=col>&lt;dbl&gt;</th><th scope=col>&lt;dbl&gt;</th><th scope=col>&lt;fct&gt;</th></tr>\n",
       "</thead>\n",
       "<tbody>\n",
       "\t<tr><td>0.00</td><td>0.00</td><td>0.00</td><td>0.00</td><td>0.00</td><td>very_low</td></tr>\n",
       "\t<tr><td>0.08</td><td>0.08</td><td>0.10</td><td>0.24</td><td>0.90</td><td>High    </td></tr>\n",
       "\t<tr><td>0.06</td><td>0.06</td><td>0.05</td><td>0.25</td><td>0.33</td><td>Low     </td></tr>\n",
       "\t<tr><td>0.10</td><td>0.10</td><td>0.15</td><td>0.65</td><td>0.30</td><td>Middle  </td></tr>\n",
       "\t<tr><td>0.08</td><td>0.08</td><td>0.08</td><td>0.98</td><td>0.24</td><td>Low     </td></tr>\n",
       "\t<tr><td>0.09</td><td>0.15</td><td>0.40</td><td>0.10</td><td>0.66</td><td>Middle  </td></tr>\n",
       "</tbody>\n",
       "</table>\n"
      ],
      "text/latex": [
       "A tibble: 6 × 6\n",
       "\\begin{tabular}{llllll}\n",
       " STG & SCG & STR & LPR & PEG & UNS\\\\\n",
       " <dbl> & <dbl> & <dbl> & <dbl> & <dbl> & <fct>\\\\\n",
       "\\hline\n",
       "\t 0.00 & 0.00 & 0.00 & 0.00 & 0.00 & very\\_low\\\\\n",
       "\t 0.08 & 0.08 & 0.10 & 0.24 & 0.90 & High    \\\\\n",
       "\t 0.06 & 0.06 & 0.05 & 0.25 & 0.33 & Low     \\\\\n",
       "\t 0.10 & 0.10 & 0.15 & 0.65 & 0.30 & Middle  \\\\\n",
       "\t 0.08 & 0.08 & 0.08 & 0.98 & 0.24 & Low     \\\\\n",
       "\t 0.09 & 0.15 & 0.40 & 0.10 & 0.66 & Middle  \\\\\n",
       "\\end{tabular}\n"
      ],
      "text/markdown": [
       "\n",
       "A tibble: 6 × 6\n",
       "\n",
       "| STG &lt;dbl&gt; | SCG &lt;dbl&gt; | STR &lt;dbl&gt; | LPR &lt;dbl&gt; | PEG &lt;dbl&gt; | UNS &lt;fct&gt; |\n",
       "|---|---|---|---|---|---|\n",
       "| 0.00 | 0.00 | 0.00 | 0.00 | 0.00 | very_low |\n",
       "| 0.08 | 0.08 | 0.10 | 0.24 | 0.90 | High     |\n",
       "| 0.06 | 0.06 | 0.05 | 0.25 | 0.33 | Low      |\n",
       "| 0.10 | 0.10 | 0.15 | 0.65 | 0.30 | Middle   |\n",
       "| 0.08 | 0.08 | 0.08 | 0.98 | 0.24 | Low      |\n",
       "| 0.09 | 0.15 | 0.40 | 0.10 | 0.66 | Middle   |\n",
       "\n"
      ],
      "text/plain": [
       "  STG  SCG  STR  LPR  PEG  UNS     \n",
       "1 0.00 0.00 0.00 0.00 0.00 very_low\n",
       "2 0.08 0.08 0.10 0.24 0.90 High    \n",
       "3 0.06 0.06 0.05 0.25 0.33 Low     \n",
       "4 0.10 0.10 0.15 0.65 0.30 Middle  \n",
       "5 0.08 0.08 0.08 0.98 0.24 Low     \n",
       "6 0.09 0.15 0.40 0.10 0.66 Middle  "
      ]
     },
     "metadata": {},
     "output_type": "display_data"
    },
    {
     "data": {
      "text/html": [
       "<table class=\"dataframe\">\n",
       "<caption>A tibble: 6 × 6</caption>\n",
       "<thead>\n",
       "\t<tr><th scope=col>STG</th><th scope=col>SCG</th><th scope=col>STR</th><th scope=col>LPR</th><th scope=col>PEG</th><th scope=col>UNS</th></tr>\n",
       "\t<tr><th scope=col>&lt;dbl&gt;</th><th scope=col>&lt;dbl&gt;</th><th scope=col>&lt;dbl&gt;</th><th scope=col>&lt;dbl&gt;</th><th scope=col>&lt;dbl&gt;</th><th scope=col>&lt;fct&gt;</th></tr>\n",
       "</thead>\n",
       "<tbody>\n",
       "\t<tr><td>0.00</td><td>0.10</td><td>0.50</td><td>0.26</td><td>0.05</td><td>Very Low</td></tr>\n",
       "\t<tr><td>0.05</td><td>0.05</td><td>0.55</td><td>0.60</td><td>0.14</td><td>Low     </td></tr>\n",
       "\t<tr><td>0.08</td><td>0.18</td><td>0.63</td><td>0.60</td><td>0.85</td><td>High    </td></tr>\n",
       "\t<tr><td>0.20</td><td>0.20</td><td>0.68</td><td>0.67</td><td>0.85</td><td>High    </td></tr>\n",
       "\t<tr><td>0.22</td><td>0.22</td><td>0.90</td><td>0.30</td><td>0.90</td><td>High    </td></tr>\n",
       "\t<tr><td>0.14</td><td>0.14</td><td>0.70</td><td>0.50</td><td>0.30</td><td>Low     </td></tr>\n",
       "</tbody>\n",
       "</table>\n"
      ],
      "text/latex": [
       "A tibble: 6 × 6\n",
       "\\begin{tabular}{llllll}\n",
       " STG & SCG & STR & LPR & PEG & UNS\\\\\n",
       " <dbl> & <dbl> & <dbl> & <dbl> & <dbl> & <fct>\\\\\n",
       "\\hline\n",
       "\t 0.00 & 0.10 & 0.50 & 0.26 & 0.05 & Very Low\\\\\n",
       "\t 0.05 & 0.05 & 0.55 & 0.60 & 0.14 & Low     \\\\\n",
       "\t 0.08 & 0.18 & 0.63 & 0.60 & 0.85 & High    \\\\\n",
       "\t 0.20 & 0.20 & 0.68 & 0.67 & 0.85 & High    \\\\\n",
       "\t 0.22 & 0.22 & 0.90 & 0.30 & 0.90 & High    \\\\\n",
       "\t 0.14 & 0.14 & 0.70 & 0.50 & 0.30 & Low     \\\\\n",
       "\\end{tabular}\n"
      ],
      "text/markdown": [
       "\n",
       "A tibble: 6 × 6\n",
       "\n",
       "| STG &lt;dbl&gt; | SCG &lt;dbl&gt; | STR &lt;dbl&gt; | LPR &lt;dbl&gt; | PEG &lt;dbl&gt; | UNS &lt;fct&gt; |\n",
       "|---|---|---|---|---|---|\n",
       "| 0.00 | 0.10 | 0.50 | 0.26 | 0.05 | Very Low |\n",
       "| 0.05 | 0.05 | 0.55 | 0.60 | 0.14 | Low      |\n",
       "| 0.08 | 0.18 | 0.63 | 0.60 | 0.85 | High     |\n",
       "| 0.20 | 0.20 | 0.68 | 0.67 | 0.85 | High     |\n",
       "| 0.22 | 0.22 | 0.90 | 0.30 | 0.90 | High     |\n",
       "| 0.14 | 0.14 | 0.70 | 0.50 | 0.30 | Low      |\n",
       "\n"
      ],
      "text/plain": [
       "  STG  SCG  STR  LPR  PEG  UNS     \n",
       "1 0.00 0.10 0.50 0.26 0.05 Very Low\n",
       "2 0.05 0.05 0.55 0.60 0.14 Low     \n",
       "3 0.08 0.18 0.63 0.60 0.85 High    \n",
       "4 0.20 0.20 0.68 0.67 0.85 High    \n",
       "5 0.22 0.22 0.90 0.30 0.90 High    \n",
       "6 0.14 0.14 0.70 0.50 0.30 Low     "
      ]
     },
     "metadata": {},
     "output_type": "display_data"
    }
   ],
   "source": [
    "#tidy data: turn UNS into factors in both sets of data\n",
    "train_data <- train_data |>\n",
    "mutate(UNS = as_factor(UNS))\n",
    "\n",
    "test_data <- test_data |>\n",
    "mutate(UNS = as_factor(UNS))\n",
    "\n",
    "slice(train_data, 1:6)\n",
    "\n",
    "slice(test_data, 1:6)"
   ]
  },
  {
   "cell_type": "markdown",
   "id": "620be07e-6432-4a8f-bfd3-57ace5d94992",
   "metadata": {},
   "source": [
    "For our exploratory data analysis, we summarize the data of the predictors into one table using **describe()** from the package **psych**. The number of observations for each class in the target variable UNS is "
   ]
  },
  {
   "cell_type": "code",
   "execution_count": 7,
   "id": "3b82a8e2-2b78-4fe1-8ae7-d0d7b2095b81",
   "metadata": {},
   "outputs": [
    {
     "data": {
      "text/html": [
       "<table class=\"dataframe\">\n",
       "<caption>A psych: 5 × 8</caption>\n",
       "<thead>\n",
       "\t<tr><th></th><th scope=col>vars</th><th scope=col>n</th><th scope=col>mean</th><th scope=col>sd</th><th scope=col>min</th><th scope=col>max</th><th scope=col>range</th><th scope=col>se</th></tr>\n",
       "\t<tr><th></th><th scope=col>&lt;int&gt;</th><th scope=col>&lt;dbl&gt;</th><th scope=col>&lt;dbl&gt;</th><th scope=col>&lt;dbl&gt;</th><th scope=col>&lt;dbl&gt;</th><th scope=col>&lt;dbl&gt;</th><th scope=col>&lt;dbl&gt;</th><th scope=col>&lt;dbl&gt;</th></tr>\n",
       "</thead>\n",
       "<tbody>\n",
       "\t<tr><th scope=row>STG</th><td>1</td><td>258</td><td>0.3711473</td><td>0.2102712</td><td>0</td><td>0.99</td><td>0.99</td><td>0.01309091</td></tr>\n",
       "\t<tr><th scope=row>SCG</th><td>2</td><td>258</td><td>0.3556744</td><td>0.2119623</td><td>0</td><td>0.90</td><td>0.90</td><td>0.01319620</td></tr>\n",
       "\t<tr><th scope=row>STR</th><td>3</td><td>258</td><td>0.4680039</td><td>0.2459398</td><td>0</td><td>0.95</td><td>0.95</td><td>0.01531154</td></tr>\n",
       "\t<tr><th scope=row>LPR</th><td>4</td><td>258</td><td>0.4327132</td><td>0.2481080</td><td>0</td><td>0.99</td><td>0.99</td><td>0.01544653</td></tr>\n",
       "\t<tr><th scope=row>PEG</th><td>5</td><td>258</td><td>0.4585388</td><td>0.2552109</td><td>0</td><td>0.93</td><td>0.93</td><td>0.01588874</td></tr>\n",
       "</tbody>\n",
       "</table>\n"
      ],
      "text/latex": [
       "A psych: 5 × 8\n",
       "\\begin{tabular}{r|llllllll}\n",
       "  & vars & n & mean & sd & min & max & range & se\\\\\n",
       "  & <int> & <dbl> & <dbl> & <dbl> & <dbl> & <dbl> & <dbl> & <dbl>\\\\\n",
       "\\hline\n",
       "\tSTG & 1 & 258 & 0.3711473 & 0.2102712 & 0 & 0.99 & 0.99 & 0.01309091\\\\\n",
       "\tSCG & 2 & 258 & 0.3556744 & 0.2119623 & 0 & 0.90 & 0.90 & 0.01319620\\\\\n",
       "\tSTR & 3 & 258 & 0.4680039 & 0.2459398 & 0 & 0.95 & 0.95 & 0.01531154\\\\\n",
       "\tLPR & 4 & 258 & 0.4327132 & 0.2481080 & 0 & 0.99 & 0.99 & 0.01544653\\\\\n",
       "\tPEG & 5 & 258 & 0.4585388 & 0.2552109 & 0 & 0.93 & 0.93 & 0.01588874\\\\\n",
       "\\end{tabular}\n"
      ],
      "text/markdown": [
       "\n",
       "A psych: 5 × 8\n",
       "\n",
       "| <!--/--> | vars &lt;int&gt; | n &lt;dbl&gt; | mean &lt;dbl&gt; | sd &lt;dbl&gt; | min &lt;dbl&gt; | max &lt;dbl&gt; | range &lt;dbl&gt; | se &lt;dbl&gt; |\n",
       "|---|---|---|---|---|---|---|---|---|\n",
       "| STG | 1 | 258 | 0.3711473 | 0.2102712 | 0 | 0.99 | 0.99 | 0.01309091 |\n",
       "| SCG | 2 | 258 | 0.3556744 | 0.2119623 | 0 | 0.90 | 0.90 | 0.01319620 |\n",
       "| STR | 3 | 258 | 0.4680039 | 0.2459398 | 0 | 0.95 | 0.95 | 0.01531154 |\n",
       "| LPR | 4 | 258 | 0.4327132 | 0.2481080 | 0 | 0.99 | 0.99 | 0.01544653 |\n",
       "| PEG | 5 | 258 | 0.4585388 | 0.2552109 | 0 | 0.93 | 0.93 | 0.01588874 |\n",
       "\n"
      ],
      "text/plain": [
       "    vars n   mean      sd        min max  range se        \n",
       "STG 1    258 0.3711473 0.2102712 0   0.99 0.99  0.01309091\n",
       "SCG 2    258 0.3556744 0.2119623 0   0.90 0.90  0.01319620\n",
       "STR 3    258 0.4680039 0.2459398 0   0.95 0.95  0.01531154\n",
       "LPR 4    258 0.4327132 0.2481080 0   0.99 0.99  0.01544653\n",
       "PEG 5    258 0.4585388 0.2552109 0   0.93 0.93  0.01588874"
      ]
     },
     "metadata": {},
     "output_type": "display_data"
    },
    {
     "data": {
      "text/html": [
       "<table class=\"dataframe\">\n",
       "<caption>A tibble: 4 × 2</caption>\n",
       "<thead>\n",
       "\t<tr><th scope=col>UNS</th><th scope=col>count</th></tr>\n",
       "\t<tr><th scope=col>&lt;fct&gt;</th><th scope=col>&lt;int&gt;</th></tr>\n",
       "</thead>\n",
       "<tbody>\n",
       "\t<tr><td>very_low</td><td>24</td></tr>\n",
       "\t<tr><td>High    </td><td>63</td></tr>\n",
       "\t<tr><td>Low     </td><td>83</td></tr>\n",
       "\t<tr><td>Middle  </td><td>88</td></tr>\n",
       "</tbody>\n",
       "</table>\n"
      ],
      "text/latex": [
       "A tibble: 4 × 2\n",
       "\\begin{tabular}{ll}\n",
       " UNS & count\\\\\n",
       " <fct> & <int>\\\\\n",
       "\\hline\n",
       "\t very\\_low & 24\\\\\n",
       "\t High     & 63\\\\\n",
       "\t Low      & 83\\\\\n",
       "\t Middle   & 88\\\\\n",
       "\\end{tabular}\n"
      ],
      "text/markdown": [
       "\n",
       "A tibble: 4 × 2\n",
       "\n",
       "| UNS &lt;fct&gt; | count &lt;int&gt; |\n",
       "|---|---|\n",
       "| very_low | 24 |\n",
       "| High     | 63 |\n",
       "| Low      | 83 |\n",
       "| Middle   | 88 |\n",
       "\n"
      ],
      "text/plain": [
       "  UNS      count\n",
       "1 very_low 24   \n",
       "2 High     63   \n",
       "3 Low      83   \n",
       "4 Middle   88   "
      ]
     },
     "metadata": {},
     "output_type": "display_data"
    }
   ],
   "source": [
    "#Summary table for predictors in train-data\n",
    "summary_pred_train <- describe(train_data[-6], fast=TRUE)\n",
    "summary_pred_train\n",
    "\n",
    "UNS_count <- train_data |>\n",
    "group_by(UNS) |>\n",
    "    summarise(count = n())\n",
    "\n",
    "UNS_count"
   ]
  },
  {
   "cell_type": "markdown",
   "id": "a287774c-0876-480e-bea8-3299329338ce",
   "metadata": {},
   "source": [
    "Considering that all predictors in the training dataset are continuous variables, we created individual histograms to display their distributions. After experimenting with several values of bins, we found bins=30 to be most clear in presentation. Looking at the plots below, distributions for STG and SCG are most smooth, while STR has the most noise. "
   ]
  },
  {
   "cell_type": "code",
   "execution_count": 13,
   "id": "a63a1e3f-e57b-4dfd-b03d-9a37bf52f4d2",
   "metadata": {},
   "outputs": [
    {
     "data": {
      "image/png": "[encoded data removed]",
      "text/plain": [
       "plot without title"
      ]
     },
     "metadata": {
      "image/png": {
       "height": 360,
       "width": 480
      }
     },
     "output_type": "display_data"
    }
   ],
   "source": [
    "prawSTG <- ggplot(train_data, aes(STG))+\n",
    "geom_histogram(colour=\"black\", fill=\"lightblue\", bins=30)\n",
    "\n",
    "prawSCG <- ggplot(train_data, aes(SCG))+\n",
    "geom_histogram(colour=\"black\", fill=\"lightblue\", bins=30)\n",
    "\n",
    "prawSTR <- ggplot(train_data, aes(STR))+\n",
    "geom_histogram(colour=\"black\", fill=\"lightblue\", bins=30)\n",
    "\n",
    "prawLPR <- ggplot(train_data, aes(LPR))+\n",
    "geom_histogram(colour=\"black\", fill=\"lightblue\", bins=30)\n",
    "\n",
    "prawPEG <- ggplot(train_data, aes(PEG))+\n",
    "geom_histogram(colour=\"black\", fill=\"lightblue\", bins=30)\n",
    "\n",
    "grid.arrange(prawSTG, prawSCG, prawSTR, prawLPR, prawPEG, ncol=3, top=\"Distribution of predictors\")"
   ]
  },
  {
   "cell_type": "markdown",
   "id": "5c179bd0-969b-4507-a930-3f66d838aa71",
   "metadata": {},
   "source": [
    "## Methods"
   ]
  },
  {
   "cell_type": "markdown",
   "id": "3fc04954-8006-487b-9ada-23c5b8e512a2",
   "metadata": {},
   "source": [
    "## Expected outcome and significance"
   ]
  }
 ],
 "metadata": {
  "kernelspec": {
   "display_name": "R",
   "language": "R",
   "name": "ir"
  },
  "language_info": {
   "codemirror_mode": "r",
   "file_extension": ".r",
   "mimetype": "text/x-r-source",
   "name": "R",
   "pygments_lexer": "r",
   "version": "4.1.3"
  }
 },
 "nbformat": 4,
 "nbformat_minor": 5
}
