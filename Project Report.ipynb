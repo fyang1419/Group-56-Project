{
 "cells": [
  {
   "cell_type": "markdown",
   "id": "0c573c44-1a5f-431a-a641-b24ff74c1aec",
   "metadata": {},
   "source": [
    "# Title"
   ]
  },
  {
   "cell_type": "markdown",
   "id": "e4754f36-d002-4c51-a084-00a74837e5ad",
   "metadata": {},
   "source": [
    "# Introduction\n",
    "\n",
    "provide some relevant background information on the topic so that someone unfamiliar with it will be prepared to understand the rest of your report\n",
    "\n",
    "clearly state the question you tried to answer with your project\n",
    "\n",
    "identify and describe the dataset that was used to answer the question"
   ]
  },
  {
   "cell_type": "markdown",
   "id": "4a0abf17-d5cc-4111-b95a-6f7b14ad3061",
   "metadata": {},
   "source": [
    "## Methods and results\n",
    "\n",
    "describe in written English the methods you used to perform your analysis from beginning to end that narrates the code the does the analysis.\n",
    "\n",
    "your report should include code which:\n",
    "\n",
    "loads data from the original source on the web \n",
    "\n",
    "wrangles and cleans the data from it's original (downloaded) format to the format necessary for the planned analysis\n",
    "\n",
    "performs a summary of the data set that is relevant for exploratory data analysis related to the planned analysis \n",
    "\n",
    "creates a visualization of the dataset that is relevant for exploratory data analysis related to the planned analysis\n",
    "\n",
    "performs the data analysis\n",
    "\n",
    "creates a visualization of the analysis \n",
    "\n",
    "note: all tables and figure should have a figure/table number and a legend"
   ]
  },
  {
   "cell_type": "markdown",
   "id": "069355f0-5a4e-4abc-ba3d-770780b638a3",
   "metadata": {},
   "source": [
    "### Methods description"
   ]
  },
  {
   "cell_type": "markdown",
   "id": "41de51bf-b868-4b42-a99c-00637c65dda1",
   "metadata": {},
   "source": [
    "Choosing predictors: \n",
    "\n",
    "- After comparing the correlations between the target variable and each predictor, we chose to consider the predictors with at least a correlation > 1. Hence, we chose the following 3 predictors: SCG (corr=0.210), LPR (corr=0.264), PEG (corr=0.488). The other 2 predictors have relatively much smaller correlations (0.075 and 0.061).\n",
    "\n",
    "We will build predictive models through the K-nearest neighbor classification algorithm, and evaluate to find the accuracy-maximizing classifier. Our methods involve:\n",
    "- Create a recipe to centre and scale data.\n",
    "- Cross-validate and tune the classifier and  to find appropriate number of neighbors.\n",
    "- Create a model followed by workflow to fit the training data.\n",
    "- Filter out accuracies and plot against the number of neighbours.\n",
    "- Fit the best model to testing data.\n",
    "- Other than the line plot of accuracies vs. number of neighbours, we can also create scatterplot of predictor variables and color the points by outcome level. We can also have side-by-side bar plots showing actual and predicted number of knowledge levels. "
   ]
  },
  {
   "cell_type": "markdown",
   "id": "961fe2e5-09c6-42e6-9171-c2a08f2390d0",
   "metadata": {},
   "source": [
    "## Discussion\n",
    "\n",
    "summarize what you found\n",
    "\n",
    "discuss whether this is what you expected to find?\n",
    "\n",
    "discuss what impact could such findings have?\n",
    "\n",
    "discuss what future questions could this lead to?"
   ]
  },
  {
   "cell_type": "markdown",
   "id": "a81b7d93-4c97-40ba-8736-5975a9c993e7",
   "metadata": {},
   "source": [
    "## References\n",
    "\n",
    "At least 2 citations of literature relevant to the project (format is your choice, just be consistent across the references).\n",
    "Make sure to cite the source of your data as well."
   ]
  }
 ],
 "metadata": {
  "kernelspec": {
   "display_name": "R",
   "language": "R",
   "name": "ir"
  },
  "language_info": {
   "codemirror_mode": "r",
   "file_extension": ".r",
   "mimetype": "text/x-r-source",
   "name": "R",
   "pygments_lexer": "r",
   "version": "4.1.3"
  }
 },
 "nbformat": 4,
 "nbformat_minor": 5
}
