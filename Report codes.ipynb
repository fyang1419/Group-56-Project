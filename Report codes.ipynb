{
 "cells": [
  {
   "cell_type": "markdown",
   "id": "468d9a6d-8edb-4d95-806d-fe8ef93defac",
   "metadata": {},
   "source": [
    "## Codes for final report"
   ]
  },
  {
   "cell_type": "code",
   "execution_count": null,
   "id": "582d3f1b-3020-4e70-858e-be0eb87691a7",
   "metadata": {},
   "outputs": [],
   "source": []
  }
 ],
 "metadata": {
  "kernelspec": {
   "display_name": "R",
   "language": "R",
   "name": "ir"
  },
  "language_info": {
   "codemirror_mode": "r",
   "file_extension": ".r",
   "mimetype": "text/x-r-source",
   "name": "R",
   "pygments_lexer": "r",
   "version": "4.1.3"
  }
 },
 "nbformat": 4,
 "nbformat_minor": 5
}
